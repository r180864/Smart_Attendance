{
  "nbformat": 4,
  "nbformat_minor": 0,
  "metadata": {
    "colab": {
      "provenance": [],
      "authorship_tag": "ABX9TyP9Tj6lfwjatjDJJWxAYfKc",
      "include_colab_link": true
    },
    "kernelspec": {
      "name": "python3",
      "display_name": "Python 3"
    },
    "language_info": {
      "name": "python"
    }
  },
  "cells": [
    {
      "cell_type": "markdown",
      "metadata": {
        "id": "view-in-github",
        "colab_type": "text"
      },
      "source": [
        "<a href=\"https://colab.research.google.com/github/r180864/Attendance/blob/main/Feed_Forward_Neural_Network.ipynb\" target=\"_parent\"><img src=\"https://colab.research.google.com/assets/colab-badge.svg\" alt=\"Open In Colab\"/></a>"
      ]
    },
    {
      "cell_type": "code",
      "execution_count": 1,
      "metadata": {
        "id": "CXnS6RdR80LD"
      },
      "outputs": [],
      "source": [
        "#Importing Required Libraries\n",
        "import tensorflow as tf\n",
        "import numpy as np\n",
        "import pandas as pd\n",
        "import matplotlib.pyplot as plt"
      ]
    },
    {
      "cell_type": "code",
      "source": [
        "#Creating Input Data with 20 Dimentions and 1000 records randomly\n",
        "X=np.random.random((1000, 20))\n",
        "#Creating Corresponding Labels with 4 categories for all records\n",
        "Y=np.random.randint(1, 5, 1000)"
      ],
      "metadata": {
        "id": "GJA78NDX88ZU"
      },
      "execution_count": 2,
      "outputs": []
    },
    {
      "cell_type": "code",
      "source": [
        "X.shape, X.dtype"
      ],
      "metadata": {
        "id": "W74y9MYx9V99"
      },
      "execution_count": null,
      "outputs": []
    },
    {
      "cell_type": "code",
      "source": [
        "Y.shape, Y.dtype"
      ],
      "metadata": {
        "id": "H0B_r1c-9XIs"
      },
      "execution_count": null,
      "outputs": []
    },
    {
      "cell_type": "code",
      "source": [
        "#Getting Labels and their Counts\n",
        "values=pd.DataFrame(Y)[0].unique()\n",
        "counts=pd.DataFrame(Y)[0].value_counts().to_list()\n",
        "fracs=[i/sum(counts) for i in counts]"
      ],
      "metadata": {
        "id": "zhEdRSIXedzj"
      },
      "execution_count": 5,
      "outputs": []
    },
    {
      "cell_type": "code",
      "source": [
        "values"
      ],
      "metadata": {
        "id": "Tg9pQpa1bQSa"
      },
      "execution_count": null,
      "outputs": []
    },
    {
      "cell_type": "code",
      "source": [
        "counts"
      ],
      "metadata": {
        "id": "w3cbFVrEfDEk"
      },
      "execution_count": null,
      "outputs": []
    },
    {
      "cell_type": "code",
      "source": [
        "sum(counts)"
      ],
      "metadata": {
        "id": "sQVY373_bjDV"
      },
      "execution_count": null,
      "outputs": []
    },
    {
      "cell_type": "code",
      "source": [
        "#Plotting The Labels and their Counts\n",
        "plt.bar(values, counts)"
      ],
      "metadata": {
        "id": "BnkWljsWbi1d"
      },
      "execution_count": null,
      "outputs": []
    },
    {
      "cell_type": "code",
      "source": [
        "#Plotting the same in Pie Chart\n",
        "plt.pie(counts, labels=values, autopct='%1.1f%%')\n",
        "plt.show()"
      ],
      "metadata": {
        "id": "OnwBbo1KeheE"
      },
      "execution_count": null,
      "outputs": []
    },
    {
      "cell_type": "code",
      "source": [
        "sum(fracs)"
      ],
      "metadata": {
        "colab": {
          "base_uri": "https://localhost:8080/"
        },
        "id": "we7eYaBghz5k",
        "outputId": "54fd69e5-2630-41c2-bf36-24df5a1a9408"
      },
      "execution_count": 11,
      "outputs": [
        {
          "output_type": "execute_result",
          "data": {
            "text/plain": [
              "1.0"
            ]
          },
          "metadata": {},
          "execution_count": 11
        }
      ]
    },
    {
      "cell_type": "code",
      "source": [
        "#Doing One-Hat Encoding\n",
        "Y=pd.get_dummies(Y)"
      ],
      "metadata": {
        "id": "ilPLH7y1ePH_"
      },
      "execution_count": 12,
      "outputs": []
    },
    {
      "cell_type": "code",
      "source": [
        "#After One-Hat Encoding, the shape of Y changes\n",
        "Y.shape"
      ],
      "metadata": {
        "id": "aJXqel7neZQm"
      },
      "execution_count": null,
      "outputs": []
    },
    {
      "cell_type": "code",
      "source": [
        "Y"
      ],
      "metadata": {
        "id": "35_qtYW0lMUR"
      },
      "execution_count": null,
      "outputs": []
    },
    {
      "cell_type": "code",
      "source": [
        "#1. Creating The Sequential Model\n",
        "model=tf.keras.models.Sequential()\n",
        "#2. Adding Input Layer which accepts (20,) as input shape\n",
        "model.add(tf.keras.layers.Input(20, name=\"Input_Layer\"))\n",
        "#3. Adding Hidden Layer with 15 Neurons\n",
        "model.add(tf.keras.layers.Dense(15, activation=tf.keras.activations.relu, name=\"Hiddden_Layer_1\"))\n",
        "#4. Adding Hidden Layer with 10 Neurons\n",
        "model.add(tf.keras.layers.Dense(10, activation=tf.keras.activations.relu, name=\"Hidden_Layer_2\"))\n",
        "#5. Adding Output Layer with 4 Neurons\n",
        "model.add(tf.keras.layers.Dense(4, activation=tf.keras.activations.softmax, name=\"Output\"))"
      ],
      "metadata": {
        "id": "54x-wBd39kQQ"
      },
      "execution_count": 16,
      "outputs": []
    },
    {
      "cell_type": "code",
      "source": [
        "#Getting the Summary of the Model\n",
        "model.summary()"
      ],
      "metadata": {
        "id": "ybS0QCnoBFKd"
      },
      "execution_count": null,
      "outputs": []
    },
    {
      "cell_type": "code",
      "source": [
        "hidden1=20*15+15\n",
        "print(\"Hidden1:\", hidden1)\n",
        "hidden2=15*10+10\n",
        "print(\"Hidden2:\", hidden2)\n",
        "output=10*4+4\n",
        "print(\"Output:\", output)\n",
        "total=hidden1+hidden2+output\n",
        "print(\"Total:\", total)"
      ],
      "metadata": {
        "id": "-8YzZKpDl-lp"
      },
      "execution_count": null,
      "outputs": []
    },
    {
      "cell_type": "code",
      "source": [
        "#Plotting The Model\n",
        "tf.keras.utils.plot_model(model, show_shapes=True, show_layer_names=True)"
      ],
      "metadata": {
        "id": "YRa_s90y9wyP"
      },
      "execution_count": null,
      "outputs": []
    },
    {
      "cell_type": "code",
      "source": [
        "#Compiling The Model\n",
        "model.compile(optimizer=tf.keras.optimizers.SGD(),\n",
        "              loss=tf.keras.losses.categorical_crossentropy,\n",
        "              metrics=['acc']\n",
        "              )"
      ],
      "metadata": {
        "id": "QJuZGVZwBBws"
      },
      "execution_count": 25,
      "outputs": []
    },
    {
      "cell_type": "code",
      "source": [
        "#Training The Model\n",
        "model.fit(X, Y, epochs=50, batch_size=20)"
      ],
      "metadata": {
        "id": "6C7g3b-pBSEc"
      },
      "execution_count": null,
      "outputs": []
    },
    {
      "cell_type": "markdown",
      "source": [
        "Getting Accuracy less than 30% which is worst"
      ],
      "metadata": {
        "id": "cXsSIDe_m9kH"
      }
    },
    {
      "cell_type": "code",
      "source": [
        "#Plotting The Learning of the model\n",
        "plt.plot(model.history.history['acc'])\n",
        "plt.plot(model.history.history['loss'])\n",
        "plt.show()"
      ],
      "metadata": {
        "id": "YTQGuw59Bxpe"
      },
      "execution_count": null,
      "outputs": []
    },
    {
      "cell_type": "markdown",
      "source": [
        "As we are taking Random values, The model didn't learn Anything, The accuracy and loss are in straight Line"
      ],
      "metadata": {
        "id": "kk0dYLHOnlxx"
      }
    },
    {
      "cell_type": "code",
      "source": [],
      "metadata": {
        "id": "WXAikefunxSv"
      },
      "execution_count": null,
      "outputs": []
    }
  ]
}